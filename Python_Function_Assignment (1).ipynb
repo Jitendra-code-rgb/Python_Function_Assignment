{
  "cells": [
    {
      "cell_type": "markdown",
      "id": "27ba6408",
      "metadata": {
        "id": "27ba6408"
      },
      "source": [
        "# Python Functions Assignment"
      ]
    },
    {
      "cell_type": "markdown",
      "id": "054da536",
      "metadata": {
        "id": "054da536"
      },
      "source": [
        "1. **What is the difference between a function and a method in Python?**\n",
        "\n",
        "A function is a block of code that performs a specific task. A method is a function associated with an object.\n",
        "\n",
        "**Example:**\n",
        "```python\n",
        "def greet():\n",
        "    return 'Hello'\n",
        "\n",
        "print(greet())\n",
        "\n",
        "text = 'hello'\n",
        "print(text.upper())  # upper is a method of string object```\n"
      ]
    },
    {
      "cell_type": "markdown",
      "id": "1253f913",
      "metadata": {
        "id": "1253f913"
      },
      "source": [
        "2. **Explain the concept of function arguments and parameters in Python.**\n",
        "\n",
        "Parameters are the variables listed in the function definition. Arguments are the values passed to the function.\n",
        "\n",
        "**Example:**\n",
        "```python\n",
        "def add(a, b):  # a and b are parameters\n",
        "    return a + b\n",
        "\n",
        "result = add(2, 3)  # 2 and 3 are arguments```\n"
      ]
    },
    {
      "cell_type": "markdown",
      "id": "b4b64585",
      "metadata": {
        "id": "b4b64585"
      },
      "source": [
        "3. **What are the different ways to define and call a function in Python?**\n",
        "\n",
        "**Example:**\n",
        "```python\n",
        "def say_hello():\n",
        "    return 'Hello'\n",
        "\n",
        "print(say_hello())\n",
        "\n",
        "# With arguments\n",
        "def greet(name):\n",
        "    return f'Hello, {name}'\n",
        "\n",
        "print(greet('Alice'))```\n"
      ]
    },
    {
      "cell_type": "markdown",
      "id": "11d2a5d1",
      "metadata": {
        "id": "11d2a5d1"
      },
      "source": [
        "4. **What is the purpose of the `return` statement in a Python function?**\n",
        "\n",
        "It sends a result back to the caller and terminates the function execution.\n",
        "\n",
        "**Example:**\n",
        "```python\n",
        "def square(x):\n",
        "    return x * x\n",
        "\n",
        "print(square(4))```\n"
      ]
    },
    {
      "cell_type": "markdown",
      "id": "406bd2d3",
      "metadata": {
        "id": "406bd2d3"
      },
      "source": [
        "5. **What are iterators in Python and how do they differ from iterables?**\n",
        "\n",
        "An iterable is an object which can be looped over. An iterator is the object used to perform the iteration.\n",
        "\n",
        "**Example:**\n",
        "```python\n",
        "my_list = [1, 2, 3]  # Iterable\n",
        "iterator = iter(my_list)  # Iterator\n",
        "print(next(iterator))```\n"
      ]
    },
    {
      "cell_type": "markdown",
      "id": "11e65a1b",
      "metadata": {
        "id": "11e65a1b"
      },
      "source": [
        "6. **Explain the concept of generators in Python and how they are defined.**\n",
        "\n",
        "Generators are iterators with `yield` keyword instead of `return`, allowing lazy evaluation.\n",
        "\n",
        "**Example:**\n",
        "```python\n",
        "def gen():\n",
        "    yield 1\n",
        "    yield 2\n",
        "\n",
        "for i in gen():\n",
        "    print(i)```\n"
      ]
    },
    {
      "cell_type": "markdown",
      "id": "6b29ab1a",
      "metadata": {
        "id": "6b29ab1a"
      },
      "source": [
        "7. **What are the advantages of using generators over regular functions?**\n",
        "\n",
        "- Save memory\n",
        "- Improve performance with large data\n",
        "- Lazy evaluation\n",
        "\n",
        "**Example:**\n",
        "```python\n",
        "def gen():\n",
        "    for i in range(1000000):\n",
        "        yield i```\n"
      ]
    },
    {
      "cell_type": "markdown",
      "id": "ae96e165",
      "metadata": {
        "id": "ae96e165"
      },
      "source": [
        "8. **What is a lambda function in Python and when is it typically used?**\n",
        "\n",
        "A small anonymous function used for short operations.\n",
        "\n",
        "**Example:**\n",
        "```python\n",
        "square = lambda x: x * x\n",
        "print(square(5))```\n"
      ]
    },
    {
      "cell_type": "markdown",
      "id": "f6ec21c2",
      "metadata": {
        "id": "f6ec21c2"
      },
      "source": [
        "9. **Explain the purpose and usage of the `map()` function in Python.**\n",
        "\n",
        "`map()` applies a function to all items in an iterable.\n",
        "\n",
        "**Example:**\n",
        "```python\n",
        "nums = [1, 2, 3]\n",
        "squares = list(map(lambda x: x * x, nums))\n",
        "print(squares)```\n"
      ]
    },
    {
      "cell_type": "markdown",
      "id": "0b1c4476",
      "metadata": {
        "id": "0b1c4476"
      },
      "source": [
        "10. **What is the difference between `map()`, `reduce()`, and `filter()` functions in Python?**\n",
        "\n",
        "- `map()`: Applies a function to all items.\n",
        "- `filter()`: Filters items based on condition.\n",
        "- `reduce()`: Reduces to a single value.\n",
        "\n",
        "**Example:**\n",
        "```python\n",
        "from functools import reduce\n",
        "nums = [1, 2, 3, 4]\n",
        "print(list(map(lambda x: x * 2, nums)))\n",
        "print(list(filter(lambda x: x % 2 == 0, nums)))\n",
        "print(reduce(lambda x, y: x + y, nums))```\n"
      ]
    },
    {
      "cell_type": "markdown",
      "id": "76d95b39",
      "metadata": {
        "id": "76d95b39"
      },
      "source": [
        "11. **Using pen & paper write the internal mechanism for sum operation using reduce function on list [47,11,42,13]**\n",
        "\n",
        "_(Attach image in Google Colab manually or describe mechanism)_\n",
        "\n",
        "Steps: `(((47 + 11) + 42) + 13)` = 113"
      ]
    },
    {
      "cell_type": "markdown",
      "id": "52388b4c",
      "metadata": {
        "id": "52388b4c"
      },
      "source": [
        "### 1. Write a function to return the sum of all even numbers in a list."
      ]
    },
    {
      "cell_type": "code",
      "execution_count": 1,
      "id": "8348ee09",
      "metadata": {
        "colab": {
          "base_uri": "https://localhost:8080/"
        },
        "id": "8348ee09",
        "outputId": "4cfed013-a81e-4125-c1c0-c95955ed3f60"
      },
      "outputs": [
        {
          "output_type": "execute_result",
          "data": {
            "text/plain": [
              "12"
            ]
          },
          "metadata": {},
          "execution_count": 1
        }
      ],
      "source": [
        "def sum_even(numbers):\n",
        "    return sum(num for num in numbers if num % 2 == 0)\n",
        "\n",
        "sum_even([1, 2, 3, 4, 5, 6])"
      ]
    },
    {
      "cell_type": "markdown",
      "id": "9e311abd",
      "metadata": {
        "id": "9e311abd"
      },
      "source": [
        "### 2. Reverse a string using function."
      ]
    },
    {
      "cell_type": "code",
      "execution_count": 2,
      "id": "6851defc",
      "metadata": {
        "colab": {
          "base_uri": "https://localhost:8080/",
          "height": 35
        },
        "id": "6851defc",
        "outputId": "3a9254d8-c19f-4e2b-dd77-13646e85966a"
      },
      "outputs": [
        {
          "output_type": "execute_result",
          "data": {
            "text/plain": [
              "'nohtyP'"
            ],
            "application/vnd.google.colaboratory.intrinsic+json": {
              "type": "string"
            }
          },
          "metadata": {},
          "execution_count": 2
        }
      ],
      "source": [
        "def reverse_string(s):\n",
        "    return s[::-1]\n",
        "\n",
        "reverse_string('Python')"
      ]
    },
    {
      "cell_type": "markdown",
      "id": "c8783048",
      "metadata": {
        "id": "c8783048"
      },
      "source": [
        "### 3. Square each element in a list."
      ]
    },
    {
      "cell_type": "code",
      "execution_count": 3,
      "id": "b91731df",
      "metadata": {
        "colab": {
          "base_uri": "https://localhost:8080/"
        },
        "id": "b91731df",
        "outputId": "a37176bc-f5f3-49d6-cbe9-b98ca08716a2"
      },
      "outputs": [
        {
          "output_type": "execute_result",
          "data": {
            "text/plain": [
              "[1, 4, 9, 16]"
            ]
          },
          "metadata": {},
          "execution_count": 3
        }
      ],
      "source": [
        "def square_list(lst):\n",
        "    return [x**2 for x in lst]\n",
        "\n",
        "square_list([1, 2, 3, 4])"
      ]
    },
    {
      "cell_type": "markdown",
      "id": "45dc9054",
      "metadata": {
        "id": "45dc9054"
      },
      "source": [
        "### 4. Check if numbers from 1 to 200 are prime."
      ]
    },
    {
      "cell_type": "code",
      "execution_count": 4,
      "id": "03344b7b",
      "metadata": {
        "colab": {
          "base_uri": "https://localhost:8080/"
        },
        "id": "03344b7b",
        "outputId": "133c536b-506f-4982-e77e-93e62bf244d7"
      },
      "outputs": [
        {
          "output_type": "execute_result",
          "data": {
            "text/plain": [
              "[2,\n",
              " 3,\n",
              " 5,\n",
              " 7,\n",
              " 11,\n",
              " 13,\n",
              " 17,\n",
              " 19,\n",
              " 23,\n",
              " 29,\n",
              " 31,\n",
              " 37,\n",
              " 41,\n",
              " 43,\n",
              " 47,\n",
              " 53,\n",
              " 59,\n",
              " 61,\n",
              " 67,\n",
              " 71,\n",
              " 73,\n",
              " 79,\n",
              " 83,\n",
              " 89,\n",
              " 97,\n",
              " 101,\n",
              " 103,\n",
              " 107,\n",
              " 109,\n",
              " 113,\n",
              " 127,\n",
              " 131,\n",
              " 137,\n",
              " 139,\n",
              " 149,\n",
              " 151,\n",
              " 157,\n",
              " 163,\n",
              " 167,\n",
              " 173,\n",
              " 179,\n",
              " 181,\n",
              " 191,\n",
              " 193,\n",
              " 197,\n",
              " 199]"
            ]
          },
          "metadata": {},
          "execution_count": 4
        }
      ],
      "source": [
        "def is_prime(n):\n",
        "    if n <= 1:\n",
        "        return False\n",
        "    for i in range(2, int(n**0.5)+1):\n",
        "        if n % i == 0:\n",
        "            return False\n",
        "    return True\n",
        "\n",
        "primes = [n for n in range(1, 201) if is_prime(n)]\n",
        "primes"
      ]
    },
    {
      "cell_type": "markdown",
      "id": "6e438c4a",
      "metadata": {
        "id": "6e438c4a"
      },
      "source": [
        "### 5. Create Fibonacci iterator class."
      ]
    },
    {
      "cell_type": "code",
      "execution_count": 5,
      "id": "7c5aa27a",
      "metadata": {
        "colab": {
          "base_uri": "https://localhost:8080/"
        },
        "id": "7c5aa27a",
        "outputId": "65b912e6-3332-4a60-b181-b6aab42c1fd6"
      },
      "outputs": [
        {
          "output_type": "execute_result",
          "data": {
            "text/plain": [
              "[1, 1, 2, 3, 5, 8, 13, 21, 34, 55]"
            ]
          },
          "metadata": {},
          "execution_count": 5
        }
      ],
      "source": [
        "class Fibonacci:\n",
        "    def __init__(self, max):\n",
        "        self.max = max\n",
        "        self.a, self.b = 0, 1\n",
        "        self.count = 0\n",
        "\n",
        "    def __iter__(self):\n",
        "        return self\n",
        "\n",
        "    def __next__(self):\n",
        "        if self.count >= self.max:\n",
        "            raise StopIteration\n",
        "        self.a, self.b = self.b, self.a + self.b\n",
        "        self.count += 1\n",
        "        return self.a\n",
        "\n",
        "list(Fibonacci(10))"
      ]
    },
    {
      "cell_type": "markdown",
      "id": "034d31a2",
      "metadata": {
        "id": "034d31a2"
      },
      "source": [
        "### 6. Generator yielding powers of 2."
      ]
    },
    {
      "cell_type": "code",
      "execution_count": 6,
      "id": "0e9d0652",
      "metadata": {
        "colab": {
          "base_uri": "https://localhost:8080/"
        },
        "id": "0e9d0652",
        "outputId": "25ca585b-afc7-4e79-90d4-0e730c3a4432"
      },
      "outputs": [
        {
          "output_type": "execute_result",
          "data": {
            "text/plain": [
              "[1, 2, 4, 8, 16, 32, 64, 128, 256, 512]"
            ]
          },
          "metadata": {},
          "execution_count": 6
        }
      ],
      "source": [
        "def powers_of_two(n):\n",
        "    for i in range(n):\n",
        "        yield 2 ** i\n",
        "\n",
        "list(powers_of_two(10))"
      ]
    },
    {
      "cell_type": "markdown",
      "id": "42d2b5c7",
      "metadata": {
        "id": "42d2b5c7"
      },
      "source": [
        "### 7. Generator to read file line by line."
      ]
    },
    {
      "cell_type": "code",
      "execution_count": 7,
      "id": "7a375eb7",
      "metadata": {
        "id": "7a375eb7"
      },
      "outputs": [],
      "source": [
        "# Make sure to upload a sample.txt file first\n",
        "\n",
        "def file_reader(filename):\n",
        "    with open(filename, 'r') as f:\n",
        "        for line in f:\n",
        "            yield line.strip()\n",
        "\n",
        "# for line in file_reader('sample.txt'):\n",
        "#     print(line)"
      ]
    },
    {
      "cell_type": "markdown",
      "id": "bab28e6d",
      "metadata": {
        "id": "bab28e6d"
      },
      "source": [
        "### 8. Sort list of tuples by second element using lambda."
      ]
    },
    {
      "cell_type": "code",
      "execution_count": 8,
      "id": "f2c49fc9",
      "metadata": {
        "colab": {
          "base_uri": "https://localhost:8080/"
        },
        "id": "f2c49fc9",
        "outputId": "d73ff17a-1bc6-4925-8a83-e2b630e52dc7"
      },
      "outputs": [
        {
          "output_type": "execute_result",
          "data": {
            "text/plain": [
              "[(2, 1), (3, 2), (1, 3)]"
            ]
          },
          "metadata": {},
          "execution_count": 8
        }
      ],
      "source": [
        "data = [(1, 3), (2, 1), (3, 2)]\n",
        "sorted(data, key=lambda x: x[1])"
      ]
    },
    {
      "cell_type": "markdown",
      "id": "4afcf75a",
      "metadata": {
        "id": "4afcf75a"
      },
      "source": [
        "### 9. Use map to convert Celsius to Fahrenheit."
      ]
    },
    {
      "cell_type": "code",
      "execution_count": 9,
      "id": "1aec8391",
      "metadata": {
        "colab": {
          "base_uri": "https://localhost:8080/"
        },
        "id": "1aec8391",
        "outputId": "ab75509b-d2fb-427c-91e9-c776b63165f6"
      },
      "outputs": [
        {
          "output_type": "execute_result",
          "data": {
            "text/plain": [
              "[32.0, 50.0, 68.0, 86.0]"
            ]
          },
          "metadata": {},
          "execution_count": 9
        }
      ],
      "source": [
        "celsius = [0, 10, 20, 30]\n",
        "fahrenheit = list(map(lambda c: (c * 9/5) + 32, celsius))\n",
        "fahrenheit"
      ]
    },
    {
      "cell_type": "markdown",
      "id": "907347f4",
      "metadata": {
        "id": "907347f4"
      },
      "source": [
        "### 10. Use filter to remove vowels from a string."
      ]
    },
    {
      "cell_type": "code",
      "execution_count": 10,
      "id": "febde4e4",
      "metadata": {
        "colab": {
          "base_uri": "https://localhost:8080/",
          "height": 35
        },
        "id": "febde4e4",
        "outputId": "45215de1-3f9d-4e6c-e7b9-f18f7553d3d6"
      },
      "outputs": [
        {
          "output_type": "execute_result",
          "data": {
            "text/plain": [
              "'Hll Wrld'"
            ],
            "application/vnd.google.colaboratory.intrinsic+json": {
              "type": "string"
            }
          },
          "metadata": {},
          "execution_count": 10
        }
      ],
      "source": [
        "def remove_vowels(s):\n",
        "    return ''.join(filter(lambda ch: ch.lower() not in 'aeiou', s))\n",
        "\n",
        "remove_vowels('Hello World')"
      ]
    },
    {
      "cell_type": "markdown",
      "id": "c701d2f9",
      "metadata": {
        "id": "c701d2f9"
      },
      "source": [
        "### 11. Bookshop accounting using lambda and map."
      ]
    },
    {
      "cell_type": "code",
      "execution_count": 11,
      "id": "5b392608",
      "metadata": {
        "colab": {
          "base_uri": "https://localhost:8080/"
        },
        "id": "5b392608",
        "outputId": "dd8e8282-6167-46f6-e2bb-4f2bd00d318b"
      },
      "outputs": [
        {
          "output_type": "execute_result",
          "data": {
            "text/plain": [
              "[('34587', 163.8),\n",
              " ('98762', 284.0),\n",
              " ('77226', 108.85000000000001),\n",
              " ('88112', 84.97)]"
            ]
          },
          "metadata": {},
          "execution_count": 11
        }
      ],
      "source": [
        "orders = [\n",
        "    ['34587', 'Learning Python', 4, 40.95],\n",
        "    ['98762', 'Programming Python', 5, 56.80],\n",
        "    ['77226', 'Head First Python', 3, 32.95],\n",
        "    ['88112', 'Einführung in Python3', 3, 24.99]\n",
        "]\n",
        "\n",
        "result = list(map(lambda order: (order[0], order[2]*order[3] + (10 if order[2]*order[3] < 100 else 0)), orders))\n",
        "result"
      ]
    },
    {
      "cell_type": "code",
      "source": [],
      "metadata": {
        "id": "0KM_4wQj3Lq1"
      },
      "id": "0KM_4wQj3Lq1",
      "execution_count": null,
      "outputs": []
    }
  ],
  "metadata": {
    "colab": {
      "provenance": []
    },
    "language_info": {
      "name": "python"
    },
    "kernelspec": {
      "name": "python3",
      "display_name": "Python 3"
    }
  },
  "nbformat": 4,
  "nbformat_minor": 5
}